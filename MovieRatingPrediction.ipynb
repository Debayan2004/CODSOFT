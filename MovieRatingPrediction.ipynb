{
  "nbformat": 4,
  "nbformat_minor": 0,
  "metadata": {
    "colab": {
      "provenance": [],
      "authorship_tag": "ABX9TyN+LcJatC69RqhSp+yipDfc",
      "include_colab_link": true
    },
    "kernelspec": {
      "name": "python3",
      "display_name": "Python 3"
    },
    "language_info": {
      "name": "python"
    }
  },
  "cells": [
    {
      "cell_type": "markdown",
      "metadata": {
        "id": "view-in-github",
        "colab_type": "text"
      },
      "source": [
        "<a href=\"https://colab.research.google.com/github/Debayan2004/CODSOFT/blob/main/MovieRatingPrediction.ipynb\" target=\"_parent\"><img src=\"https://colab.research.google.com/assets/colab-badge.svg\" alt=\"Open In Colab\"/></a>"
      ]
    },
    {
      "cell_type": "code",
      "execution_count": null,
      "metadata": {
        "colab": {
          "base_uri": "https://localhost:8080/"
        },
        "id": "40bJIthVLW3h",
        "outputId": "f8584bb1-7a4c-4055-fc89-e5f915c8cd38"
      },
      "outputs": [
        {
          "output_type": "stream",
          "name": "stdout",
          "text": [
            "Dataset URL: https://www.kaggle.com/datasets/adrianmcmahon/imdb-india-movies\n",
            "License(s): CC0-1.0\n",
            "Downloading imdb-india-movies.zip to /content\n",
            "  0% 0.00/494k [00:00<?, ?B/s]\n",
            "100% 494k/494k [00:00<00:00, 71.6MB/s]\n"
          ]
        }
      ],
      "source": [
        "!kaggle datasets download -d adrianmcmahon/imdb-india-movies"
      ]
    },
    {
      "cell_type": "code",
      "source": [
        "import zipfile\n",
        "import os\n",
        "\n",
        "# Path to the downloaded .zip file (example: 'titanic.zip')\n",
        "zip_file_path = '/content/imdb-india-movies.zip'  # Replace with your .zip file path\n",
        "\n",
        "# Destination folder to extract the contents\n",
        "extract_to_path = '/content/MovieRating'  # Replace with your destination directory\n",
        "\n",
        "# Ensure the extraction path exists\n",
        "os.makedirs(extract_to_path, exist_ok=True)\n",
        "\n",
        "# Unzip the file\n",
        "with zipfile.ZipFile(zip_file_path, 'r') as zip_ref:\n",
        "    zip_ref.extractall(extract_to_path)\n",
        "\n",
        "# List the extracted files to verify\n",
        "extracted_files = os.listdir(extract_to_path)\n",
        "print(f\"Files extracted to {extract_to_path}: {extracted_files}\")\n"
      ],
      "metadata": {
        "colab": {
          "base_uri": "https://localhost:8080/"
        },
        "id": "gKbmDi7SMU9Z",
        "outputId": "93c1f80f-37f6-4292-9485-1d08aa87d913"
      },
      "execution_count": null,
      "outputs": [
        {
          "output_type": "stream",
          "name": "stdout",
          "text": [
            "Files extracted to /content/MovieRating: ['IMDb Movies India.csv']\n"
          ]
        }
      ]
    },
    {
      "cell_type": "code",
      "source": [
        "import pandas as pd\n",
        "from sklearn.model_selection import train_test_split\n",
        "from sklearn.preprocessing import OneHotEncoder\n",
        "from sklearn.compose import ColumnTransformer\n",
        "from sklearn.pipeline import Pipeline\n",
        "from sklearn.impute import SimpleImputer\n",
        "from sklearn.ensemble import GradientBoostingRegressor\n",
        "from sklearn.metrics import mean_absolute_error, mean_squared_error, r2_score\n",
        "import joblib"
      ],
      "metadata": {
        "id": "usvAmBgHmeRp"
      },
      "execution_count": null,
      "outputs": []
    },
    {
      "cell_type": "code",
      "source": [
        "# Load dataset, trying different encodings\n",
        "try:\n",
        "    df = pd.read_csv('/content/MovieRating/IMDb Movies India.csv', encoding='utf-8')\n",
        "except UnicodeDecodeError:\n",
        "    try:\n",
        "        df = pd.read_csv('/content/MovieRating/IMDb Movies India.csv', encoding='latin-1')\n",
        "    except UnicodeDecodeError:\n",
        "        df = pd.read_csv('/content/MovieRating/IMDb Movies India.csv', encoding='ISO-8859-1')\n",
        "\n",
        "# Display the data in tabular format\n",
        "print(\"Dataset:\")\n",
        "print(df.head())"
      ],
      "metadata": {
        "colab": {
          "base_uri": "https://localhost:8080/"
        },
        "id": "PrCUMBEBmfMr",
        "outputId": "1ec46441-db7f-4c98-c5c1-c53afd7d6cf5"
      },
      "execution_count": null,
      "outputs": [
        {
          "output_type": "stream",
          "name": "stdout",
          "text": [
            "Dataset:\n",
            "                                 Name    Year Duration            Genre  \\\n",
            "0                                         NaN      NaN            Drama   \n",
            "1  #Gadhvi (He thought he was Gandhi)  (2019)  109 min            Drama   \n",
            "2                         #Homecoming  (2021)   90 min   Drama, Musical   \n",
            "3                             #Yaaram  (2019)  110 min  Comedy, Romance   \n",
            "4                   ...And Once Again  (2010)  105 min            Drama   \n",
            "\n",
            "   Rating Votes            Director       Actor 1             Actor 2  \\\n",
            "0     NaN   NaN       J.S. Randhawa      Manmauji              Birbal   \n",
            "1     7.0     8       Gaurav Bakshi  Rasika Dugal      Vivek Ghamande   \n",
            "2     NaN   NaN  Soumyajit Majumdar  Sayani Gupta   Plabita Borthakur   \n",
            "3     4.4    35          Ovais Khan       Prateik          Ishita Raj   \n",
            "4     NaN   NaN        Amol Palekar  Rajat Kapoor  Rituparna Sengupta   \n",
            "\n",
            "           Actor 3  \n",
            "0  Rajendra Bhatia  \n",
            "1    Arvind Jangid  \n",
            "2       Roy Angana  \n",
            "3  Siddhant Kapoor  \n",
            "4      Antara Mali  \n"
          ]
        }
      ]
    },
    {
      "cell_type": "code",
      "source": [
        "# Handle missing values\n",
        "df.fillna('', inplace=True)  # Simple imputation for missing values\n",
        "\n",
        "# Convert the 'Rating' column to numeric and handle errors\n",
        "df['Rating'] = pd.to_numeric(df['Rating'], errors='coerce')\n",
        "\n",
        "# Fill missing values in 'Rating' with the median value\n",
        "df['Rating'].fillna(df['Rating'].median(), inplace=True)"
      ],
      "metadata": {
        "id": "uZfDX4SjmjkC"
      },
      "execution_count": null,
      "outputs": []
    },
    {
      "cell_type": "code",
      "source": [
        "# Define features and target\n",
        "features = ['Genre', 'Director', 'Actor 1', 'Actor 2', 'Actor 3']\n",
        "target = 'Rating'\n",
        "X = df[features]\n",
        "y = df[target]"
      ],
      "metadata": {
        "id": "ndl9I0e8mnci"
      },
      "execution_count": null,
      "outputs": []
    },
    {
      "cell_type": "code",
      "source": [
        "# Split dataset\n",
        "X_train, X_test, y_train, y_test = train_test_split(X, y, test_size=0.2, random_state=42)"
      ],
      "metadata": {
        "id": "omoYc9O-mqLz"
      },
      "execution_count": null,
      "outputs": []
    },
    {
      "cell_type": "code",
      "source": [
        "# One-hot encode categorical features\n",
        "categorical_features = ['Genre', 'Director', 'Actor 1', 'Actor 2', 'Actor 3']\n",
        "\n",
        "categorical_transformer = Pipeline(steps=[\n",
        "    ('imputer', SimpleImputer(strategy='constant', fill_value='missing')),\n",
        "    ('onehot', OneHotEncoder(handle_unknown='ignore'))\n",
        "])\n",
        "\n",
        "# Create a preprocessor pipeline for categorical features\n",
        "preprocessor = ColumnTransformer(\n",
        "    transformers=[\n",
        "        ('cat', categorical_transformer, categorical_features)\n",
        "    ])\n",
        "\n",
        "# Create a pipeline with preprocessing and the model\n",
        "model = Pipeline(steps=[('preprocessor', preprocessor),\n",
        "                        ('regressor', GradientBoostingRegressor(random_state=42))])\n"
      ],
      "metadata": {
        "id": "0Z8axwvDmv41"
      },
      "execution_count": null,
      "outputs": []
    },
    {
      "cell_type": "code",
      "source": [
        "# Train the model\n",
        "model.fit(X_train, y_train)\n",
        "# Save the trained model\n",
        "joblib.dump(model, 'movie_rating_prediction_model.pkl')"
      ],
      "metadata": {
        "colab": {
          "base_uri": "https://localhost:8080/"
        },
        "id": "BgPN68tRmyhU",
        "outputId": "5411a283-ee91-4fe4-c655-c3276159312a"
      },
      "execution_count": null,
      "outputs": [
        {
          "output_type": "execute_result",
          "data": {
            "text/plain": [
              "['movie_rating_prediction_model.pkl']"
            ]
          },
          "metadata": {},
          "execution_count": 50
        }
      ]
    },
    {
      "cell_type": "code",
      "source": [
        "# Make predictions\n",
        "y_pred = model.predict(X_test)\n",
        "\n",
        "# Evaluate the model\n",
        "mae = mean_absolute_error(y_test, y_pred)\n",
        "mse = mean_squared_error(y_test, y_pred)\n",
        "r2 = r2_score(y_test, y_pred)\n",
        "\n",
        "print(f\"Mean Absolute Error: {mae}\")\n",
        "print(f\"Mean Squared Error: {mse}\")\n",
        "print(f\"R^2 Score: {r2}\")\n",
        "\n",
        "\n",
        "\n",
        "\n",
        "\n",
        "\n",
        "\n",
        "\n",
        "\n",
        "\n",
        "\n",
        "\n"
      ],
      "metadata": {
        "colab": {
          "base_uri": "https://localhost:8080/"
        },
        "id": "hNsTOVv4mNiN",
        "outputId": "d7a556ff-cb5a-4299-ed05-ca8e8c71b7c0"
      },
      "execution_count": null,
      "outputs": [
        {
          "output_type": "stream",
          "name": "stdout",
          "text": [
            "Mean Absolute Error: 0.5812499219174528\n",
            "Mean Squared Error: 0.8959524638400524\n",
            "R^2 Score: 0.07862661133861626\n"
          ]
        }
      ]
    },
    {
      "cell_type": "code",
      "source": [
        "# Function to categorize rating\n",
        "def categorize_rating(rating):\n",
        "    if rating < 4:\n",
        "        return 'low'\n",
        "    elif rating < 7:\n",
        "        return 'medium'\n",
        "    else:\n",
        "        return 'high'"
      ],
      "metadata": {
        "id": "kKmnV5NXnrhV"
      },
      "execution_count": null,
      "outputs": []
    },
    {
      "cell_type": "code",
      "source": [
        "# Load the saved model\n",
        "model = joblib.load('/content/movie_rating_prediction_model.pkl')"
      ],
      "metadata": {
        "id": "jXhmu4_tns_S"
      },
      "execution_count": null,
      "outputs": []
    },
    {
      "cell_type": "code",
      "source": [
        "# Prepare input data for testing\n",
        "input_data = {\n",
        "    'Genre': ['Action'],\n",
        "    'Director': ['James Cameron'],\n",
        "    'Actor 1': ['Arnold Schwarzenegger'],\n",
        "    'Actor 2': ['Linda Hamilton'],\n",
        "    'Actor 3': ['Michael Biehn']\n",
        "}"
      ],
      "metadata": {
        "id": "1qHVFWZjn4Nb"
      },
      "execution_count": null,
      "outputs": []
    },
    {
      "cell_type": "code",
      "source": [
        "# Create a DataFrame\n",
        "input_df = pd.DataFrame(input_data)\n"
      ],
      "metadata": {
        "id": "29VpdymZn9QJ"
      },
      "execution_count": null,
      "outputs": []
    },
    {
      "cell_type": "code",
      "source": [
        "# Make predictions\n",
        "predicted_rating = model.predict(input_df)\n",
        "\n",
        "# Categorize the predicted rating\n",
        "predicted_rating_category = categorize_rating(predicted_rating[0])\n",
        "\n",
        "print(f\"Predicted Rating (Numeric): {predicted_rating[0]}\")\n",
        "print(f\"Predicted Rating Category: {predicted_rating_category}\")"
      ],
      "metadata": {
        "id": "oZH6eSYLoNjS",
        "outputId": "59228b83-b6f9-43e4-80e3-0e5f5318e0dd",
        "colab": {
          "base_uri": "https://localhost:8080/"
        }
      },
      "execution_count": null,
      "outputs": [
        {
          "output_type": "stream",
          "name": "stdout",
          "text": [
            "Predicted Rating (Numeric): 5.8365363100365615\n",
            "Predicted Rating Category: medium\n"
          ]
        }
      ]
    }
  ]
}